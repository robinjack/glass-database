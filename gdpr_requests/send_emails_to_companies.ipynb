{
 "cells": [
  {
   "cell_type": "code",
   "execution_count": 1,
   "metadata": {},
   "outputs": [],
   "source": [
    "import os\n",
    "import smtplib\n",
    "from email.mime.multipart import MIMEMultipart\n",
    "from email.mime.text import MIMEText\n",
    "from email.mime.base import MIMEBase\n",
    "from email import encoders\n",
    "import datetime"
   ]
  },
  {
   "cell_type": "code",
   "execution_count": null,
   "metadata": {},
   "outputs": [],
   "source": []
  },
  {
   "cell_type": "code",
   "execution_count": null,
   "metadata": {},
   "outputs": [],
   "source": [
    "def buildEmail(contact, zip_file):\n",
    "     # The following four lines of code prep the data for attachent.\n",
    "    part = MIMEBase('application', \"octet-stream\")\n",
    "    email_username = GMAIL_CREDENTIALS['email_username']\n",
    "    part.set_payload(open(zip_file, \"rb\").read())\n",
    "    encoders.encode_base64(part)\n",
    "    part.add_header('Content-Disposition',\n",
    "                    'attachment; filename=\"%s\"' % zip_file)\n",
    "\n",
    "    me = email_username \n",
    "    recipients = contact['contact_email']\n",
    "    recipients_name = contact['contact_name']\n",
    "    role=contact['role']\n",
    "    received_initial_email = contact['has_been_sent_first_email']\n",
    "    subject = 'out_of_stock_report'\n",
    "    \n",
    "    if not received_initial_email:\n",
    "        message = m.initial_email_copy\n",
    "        status = 'initial'\n",
    "    else:\n",
    "        message = m.recurring_email_copy\n",
    "        status = 'recurring'\n",
    "\n",
    "    message = message.format(name=recipients_name, documentation_link=DOCUMENTATION_LINK, role=role)\n",
    "\n",
    "    body = MIMEText('text', 'html')\n",
    "    body.set_payload(message)\n",
    "\n",
    "    msg = MIMEMultipart()\n",
    "    msg['From'] = me\n",
    "    msg['To'] = recipients\n",
    "    msg['Subject'] = subject\n",
    "    msg.attach(part)\n",
    "    msg.attach(body)\n",
    "    return {'message': msg, 'status': status}"
   ]
  }
 ],
 "metadata": {
  "kernelspec": {
   "display_name": "Python 2",
   "language": "python",
   "name": "python2"
  },
  "language_info": {
   "codemirror_mode": {
    "name": "ipython",
    "version": 2
   },
   "file_extension": ".py",
   "mimetype": "text/x-python",
   "name": "python",
   "nbconvert_exporter": "python",
   "pygments_lexer": "ipython2",
   "version": "2.7.14"
  }
 },
 "nbformat": 4,
 "nbformat_minor": 2
}
